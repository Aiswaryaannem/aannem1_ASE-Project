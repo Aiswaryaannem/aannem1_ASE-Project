{
  "cells": [
    {
      "cell_type": "code",
      "execution_count": null,
      "metadata": {},
      "outputs": [],
      "source": [
        "import argparse\n",
        "import os\n",
        "import cv2\n",
        "import numpy as np\n",
        "import torch\n",
        "from torchvision import transforms\n",
        "from torch.utils.data import Dataset\n",
        "import utils\n",
        "import torch.nn as nn\n",
        "import torch.nn.init as init\n",
        "from torchsummary import summary\n",
        "from torch.nn import functional as F\n",
        "from torch.nn import Parameter\n",
        "import trainer\n",
        "from network_module import *"
      ]
    },
    {
      "cell_type": "code",
      "execution_count": null,
      "metadata": {},
      "outputs": [],
      "source": [
        "!python train.py    --epochs 40\n",
        "                    --lr_g 0.0001\n",
        "                    --batch_size 4\n",
        "                    --lambda_perceptual 100\n",
        "                    --lambda_l1 300\n",
        "                    --baseroot /dataset/\n",
        "                    --mask_type 'free_form'\n",
        "                    --imgsize 512"
      ]
    },
    {
      "cell_type": "code",
      "execution_count": null,
      "metadata": {},
      "outputs": [],
      "source": [
        "parser = argparse.ArgumentParser()\n",
        "# General parameters\n",
        "parser.add_argument('--save_path', type = str, default = './models', help = 'saving path that is a folder')\n",
        "parser.add_argument('--sample_path', type = str, default = './samples', help = 'training samples path that is a folder')\n",
        "parser.add_argument('--gan_type', type = str, default = 'WGAN', help = 'the type of GAN for training')\n",
        "parser.add_argument('--multi_gpu', type = bool, default = False, help = 'nn.Parallel needs or not')\n",
        "parser.add_argument('--gpu_ids', type = str, default = \"0\", help = 'gpu ids: e.g. 0  0,1,2, 0,2. use -1 for CPU')\n",
        "parser.add_argument('--cudnn_benchmark', type = bool, default = True, help = 'True for unchanged input data type')\n",
        "parser.add_argument('--checkpoint_interval', type = int, default = 1, help = 'interval between model checkpoints')\n",
        "parser.add_argument('--load_name_g', type = str, default = '', help = 'load model name')#./models/deepfillv2_WGAN_epoch2_batchsize4.pth\n",
        "parser.add_argument('--load_name_d', type=str, default='', help='load model name')#./models/discriminator_WGAN_epoch2_batchsize4.pth\n",
        "# Training parameters\n",
        "parser.add_argument('--epochs', type = int, default = 40, help = 'number of epochs of training')\n",
        "parser.add_argument('--batch_size', type = int, default = 4, help = 'size of the batches')\n",
        "parser.add_argument('--lr_g', type = float, default = 1e-4, help = 'Adam: learning rate')\n",
        "parser.add_argument('--lr_d', type = float, default = 4e-4, help = 'Adam: learning rate')\n",
        "parser.add_argument('--weight_decay', type = float, default = 0, help = 'Adam: weight decay')\n",
        "parser.add_argument('--lr_decrease_epoch', type = int, default = 10, help = 'lr decrease at certain epoch and its multiple')\n",
        "parser.add_argument('--lr_decrease_factor', type = float, default = 0.5, help = 'lr decrease factor, for classification default 0.1')\n",
        "parser.add_argument('--lambda_l1', type = float, default = 256, help = 'the parameter of L1Loss')\n",
        "parser.add_argument('--lambda_perceptual', type = float, default = 100, help = 'the parameter of FML1Loss (perceptual loss)')\n",
        "parser.add_argument('--num_workers', type = int, default = 16, help = 'number of cpu threads to use during batch generation')\n",
        "# Network parameters\n",
        "parser.add_argument('--latent_channels', type = int, default = 32, help = 'latent channels')\n",
        "parser.add_argument('--pad_type', type = str, default = 'replicate', help = 'the padding type')\n",
        "parser.add_argument('--activation', type = str, default = 'elu', help = 'the activation type')\n",
        "parser.add_argument('--norm1', type = str, default = 'none', help = 'normalization type')\n",
        "parser.add_argument('--norm', type=str, default='none', help='normalization type')\n",
        "parser.add_argument('--init_type', type = str, default = 'kaiming', help = 'the initialization type')\n",
        "parser.add_argument('--init_gain', type = float, default = 0.2, help = 'the initialization gain')\n",
        "# Dataset parameters\n",
        "parser.add_argument('--baseroot', type = str, default = './dataset/data_large', help = 'the training folder: val_256, test_large, data_256')\n",
        "parser.add_argument('--mask_type', type = str, default = 'free_form', help = 'mask type')\n",
        "parser.add_argument('--imgsize', type = int, default = 512, help = 'size of image')\n",
        "parser.add_argument('--margin', type = int, default = 10, help = 'margin of image')\n",
        "parser.add_argument('--bbox_shape', type = int, default = 30, help = 'margin of image for bbox mask')\n",
        "opt = parser.parse_args()\n",
        "print(opt)\n",
        "\n",
        "'''\n",
        "# ----------------------------------------\n",
        "#       Choose CUDA visible devices\n",
        "# ----------------------------------------\n",
        "if opt.multi_gpu == True:\n",
        "    os.environ[\"CUDA_VISIBLE_DEVICES\"] = opt.gpu_ids\n",
        "else:\n",
        "    os.environ[\"CUDA_VISIBLE_DEVICES\"] = \"0\"\n",
        "'''\n",
        "\n",
        "trainer.WGAN_trainer(opt)"
      ]
    },
    {
      "cell_type": "markdown",
      "metadata": {
        "id": "CUZhG1usqiii"
      },
      "source": [
        "# Init"
      ]
    },
    {
      "cell_type": "code",
      "execution_count": null,
      "metadata": {
        "colab": {
          "base_uri": "https://localhost:8080/",
          "height": 316
        },
        "id": "zCyokhc2yrPK",
        "outputId": "a0f63f1c-fdb2-468a-dafd-bf8a33eaf5f4"
      },
      "outputs": [
        {
          "name": "stdout",
          "output_type": "stream",
          "text": [
            "Sun May 12 02:23:51 2019       \n",
            "+-----------------------------------------------------------------------------+\n",
            "| NVIDIA-SMI 418.56       Driver Version: 410.79       CUDA Version: 10.0     |\n",
            "|-------------------------------+----------------------+----------------------+\n",
            "| GPU  Name        Persistence-M| Bus-Id        Disp.A | Volatile Uncorr. ECC |\n",
            "| Fan  Temp  Perf  Pwr:Usage/Cap|         Memory-Usage | GPU-Util  Compute M. |\n",
            "|===============================+======================+======================|\n",
            "|   0  Tesla T4            Off  | 00000000:00:04.0 Off |                    0 |\n",
            "| N/A   70C    P8    18W /  70W |      0MiB / 15079MiB |      0%      Default |\n",
            "+-------------------------------+----------------------+----------------------+\n",
            "                                                                               \n",
            "+-----------------------------------------------------------------------------+\n",
            "| Processes:                                                       GPU Memory |\n",
            "|  GPU       PID   Type   Process name                             Usage      |\n",
            "|=============================================================================|\n",
            "|  No running processes found                                                 |\n",
            "+-----------------------------------------------------------------------------+\n"
          ]
        }
      ],
      "source": [
        "!nvidia-smi"
      ]
    },
    {
      "cell_type": "code",
      "execution_count": null,
      "metadata": {
        "id": "ImXQLYhdypin"
      },
      "outputs": [],
      "source": [
        "import numpy as np\n",
        "%matplotlib inline\n",
        "import matplotlib.pyplot as plt\n",
        "\n",
        "import torch\n",
        "from torch import nn\n",
        "from torch import optim\n",
        "from torch.nn import functional as F\n",
        "import torchvision\n",
        "from torchvision import transforms\n",
        "from torch.utils import data"
      ]
    },
    {
      "cell_type": "markdown",
      "metadata": {
        "id": "Gov036utypip"
      },
      "source": [
        "# Data"
      ]
    },
    {
      "cell_type": "code",
      "execution_count": null,
      "metadata": {
        "colab": {
          "base_uri": "https://localhost:8080/",
          "height": 52
        },
        "id": "kvOIM7heypip",
        "outputId": "97876cdd-37f1-496a-b56c-79451e55efc3"
      },
      "outputs": [
        {
          "name": "stderr",
          "output_type": "stream",
          "text": [
            "\r0it [00:00, ?it/s]"
          ]
        },
        {
          "name": "stdout",
          "output_type": "stream",
          "text": [
            "Downloading https://www.cs.toronto.edu/~kriz/cifar-10-python.tar.gz to ./data/cifar-10-python.tar.gz\n"
          ]
        },
        {
          "name": "stderr",
          "output_type": "stream",
          "text": [
            "100%|█████████▉| 170303488/170498071 [00:13<00:00, 17793544.35it/s]"
          ]
        },
        {
          "name": "stdout",
          "output_type": "stream",
          "text": [
            "Files already downloaded and verified\n"
          ]
        }
      ],
      "source": [
        "transform = transforms.Compose([\n",
        "    transforms.RandomHorizontalFlip(p=0.5),\n",
        "    transforms.ToTensor()\n",
        "])\n",
        "dataset = torchvision.datasets.CelebA(root='./data', split='train', download=True, transform=transform)\n",
        "test = torchvision.datasets.CelebA(root='./data', split='test', download=True, transform=transform)"
      ]
    },
    {
      "cell_type": "code",
      "execution_count": null,
      "metadata": {
        "colab": {
          "base_uri": "https://localhost:8080/",
          "height": 34
        },
        "id": "tIkQ7KMIypir",
        "outputId": "763ee95f-0313-4070-d522-fabd1713dde0"
      },
      "outputs": [
        {
          "name": "stdout",
          "output_type": "stream",
          "text": [
            "45000 2500 2500\n"
          ]
        }
      ],
      "source": [
        "train_split, val_split, test_split = 0.9, 0.05, 0.05\n",
        "train_size = int(len(dataset) * train_split)\n",
        "val_size = int(len(dataset) * val_split)\n",
        "test_size = int(len(dataset) * test_split)\n",
        "\n",
        "train, val, test = data.random_split(dataset, (train_size, val_size, test_size))\n",
        "print(len(train), len(val), len(test))"
      ]
    },
    {
      "cell_type": "code",
      "execution_count": null,
      "metadata": {
        "colab": {
          "base_uri": "https://localhost:8080/",
          "height": 269
        },
        "id": "-n__AcyJypiu",
        "outputId": "7e43db3d-d5bc-4e2b-c29d-b0d2a072673b"
      },
      "outputs": [
        {
          "data": {
            "image/png": "[encoded data removed]",
            "text/plain": [
              "<Figure size 432x288 with 1 Axes>"
            ]
          },
          "metadata": {
            "tags": []
          },
          "output_type": "display_data"
        }
      ],
      "source": [
        "def imshow(tensor):\n",
        "    if len(tensor.shape) == 4:\n",
        "        tensor = tensor[0]\n",
        "    plt.imshow(tensor.cpu()[:3].permute(1, 2, 0))\n",
        "\n",
        "imshow(train[1000][0])"
      ]
    },
    {
      "cell_type": "markdown",
      "metadata": {
        "id": "aw3lE2A8ypiw"
      },
      "source": [
        "# Masks"
      ]
    },
    {
      "cell_type": "code",
      "execution_count": null,
      "metadata": {
        "id": "RsrFdltEypix"
      },
      "outputs": [],
      "source": [
        "def create_hole_mask(im_h, im_w, hole_h, hole_w):\n",
        "    i = int((im_h - hole_h + 1) * np.random.random())\n",
        "    j = int((im_w - hole_w + 1) * np.random.random())\n",
        "    mask = torch.zeros((1, im_h, im_w))\n",
        "    mask[0, i : i + hole_h, j : j + hole_w] = 1\n",
        "    return mask, (i, i + hole_h, j, j + hole_w)\n",
        "\n",
        "def create_hole_masks(N, im_h, im_w, hole_h, hole_w, same_size=True):\n",
        "    if same_size:\n",
        "        masks = [create_hole_mask(im_h, im_w, hole_h, hole_w) for _ in range(N)]\n",
        "    else:\n",
        "        h_min, h_max = hole_h\n",
        "        w_min, w_max = hole_w\n",
        "        hs, ws = np.random.randint(h_min, h_max, N), np.random.randint(w_min, w_max, N)\n",
        "        masks = [create_hole_mask(im_h, im_w, h, w) for h, w in zip(hs, ws)]\n",
        "\n",
        "    bounds = [mask[1] for mask in masks]\n",
        "    masks = [mask[0] for mask in masks]\n",
        "    masks = torch.cat(masks, dim=0)\n",
        "    return masks.unsqueeze(1), bounds"
      ]
    },
    {
      "cell_type": "code",
      "execution_count": null,
      "metadata": {
        "colab": {
          "base_uri": "https://localhost:8080/"
        },
        "id": "TatQwNqOypiy",
        "outputId": "9d6507cf-d6d0-4ea4-92ac-2eb46c47e055"
      },
      "outputs": [
        {
          "data": {
            "text/plain": [
              "(tensor([[[[0., 0., 0.],\n",
              "           [0., 0., 0.],\n",
              "           [0., 1., 0.]]],\n",
              " \n",
              " \n",
              "         [[[1., 0., 0.],\n",
              "           [0., 0., 0.],\n",
              "           [0., 0., 0.]]]]), [(2, 3, 1, 2), (0, 1, 0, 1)])"
            ]
          },
          "execution_count": 7,
          "metadata": {
            "tags": []
          },
          "output_type": "execute_result"
        }
      ],
      "source": [
        "create_hole_masks(2, 3, 3, 1, 1)"
      ]
    },
    {
      "cell_type": "code",
      "execution_count": null,
      "metadata": {
        "colab": {
          "base_uri": "https://localhost:8080/"
        },
        "id": "ju0hFUuCypi1",
        "outputId": "4254f2c2-abaf-40d9-e790-74920e32c145"
      },
      "outputs": [
        {
          "data": {
            "text/plain": [
              "<matplotlib.image.AxesImage at 0x7f0b376cdcf8>"
            ]
          },
          "execution_count": 8,
          "metadata": {
            "tags": []
          },
          "output_type": "execute_result"
        },
        {
          "data": {
            "image/png": "[encoded data removed]",
            "text/plain": [
              "<Figure size 432x288 with 1 Axes>"
            ]
          },
          "metadata": {
            "tags": []
          },
          "output_type": "display_data"
        }
      ],
      "source": [
        "plt.imshow(create_hole_mask(32, 32, 5, 5)[0][0], cmap='gray')"
      ]
    },
    {
      "cell_type": "code",
      "execution_count": null,
      "metadata": {
        "colab": {
          "base_uri": "https://localhost:8080/"
        },
        "id": "rshSuajyypi3",
        "outputId": "3678bd4f-5c84-45b5-f461-03f01a31e32b"
      },
      "outputs": [
        {
          "data": {
            "image/png": "[encoded data removed]",
            "text/plain": [
              "<Figure size 432x288 with 1 Axes>"
            ]
          },
          "metadata": {
            "tags": []
          },
          "output_type": "display_data"
        }
      ],
      "source": [
        "imshow((1 - create_hole_mask(32, 32, 10, 10)[0][0]) * train[1000][0])"
      ]
    },
    {
      "cell_type": "markdown",
      "metadata": {
        "id": "aG-tFYYeypjH"
      },
      "source": [
        "# GAN"
      ]
    },
    {
      "cell_type": "markdown",
      "metadata": {
        "id": "e14MmrYHnhHf"
      },
      "source": [
        "## Generator"
      ]
    },
    {
      "cell_type": "code",
      "execution_count": null,
      "metadata": {
        "id": "01E63Hp1ypjI"
      },
      "outputs": [],
      "source": [
        "class Flatten(nn.Module):\n",
        "    def forward(self, input):\n",
        "        return input.view(input.shape[0], -1)\n",
        "\n",
        "class Unflatten(nn.Module):\n",
        "    \n",
        "    def __init__(self, shape):\n",
        "        super(Unflatten, self).__init__()\n",
        "        self.shape = shape\n",
        "    \n",
        "    def forward(self, X):\n",
        "        return X.view(-1, *self.shape)\n",
        "\n",
        "class Generator(nn.Module):\n",
        "    \n",
        "    def __init__(self, im_channels):\n",
        "        super(Generator, self).__init__()\n",
        "        \n",
        "        \n",
        "        self.net = nn.Sequential(\n",
        "            nn.Conv2d(im_channels + 1, 64, 5, stride=1, padding=1),\n",
        "            nn.LeakyReLU(0.1),\n",
        "            nn.BatchNorm2d(64),\n",
        "            \n",
        "            nn.Conv2d(64, 128, 3, stride=2, padding=1),\n",
        "            nn.LeakyReLU(0.1),\n",
        "            nn.BatchNorm2d(128),\n",
        "            nn.Conv2d(128, 128, 3, stride=1, padding=1),\n",
        "            nn.LeakyReLU(0.1),\n",
        "            nn.BatchNorm2d(128),\n",
        "            \n",
        "            \n",
        "            nn.Conv2d(128, 256, 3, stride=2, padding=1),\n",
        "            nn.LeakyReLU(0.1),\n",
        "            nn.BatchNorm2d(256),\n",
        "            nn.Conv2d(256, 256, 3, stride=1, padding=1),\n",
        "            nn.LeakyReLU(0.1),\n",
        "            nn.BatchNorm2d(256),\n",
        "            nn.Conv2d(256, 256, 3, stride=1, padding=1),\n",
        "            nn.LeakyReLU(0.1),\n",
        "            nn.BatchNorm2d(256),\n",
        "            \n",
        "            nn.Conv2d(256, 256, 3, stride=1, padding=2, dilation=2),\n",
        "            nn.LeakyReLU(0.1),\n",
        "            nn.BatchNorm2d(256),\n",
        "            nn.Conv2d(256, 256, 3, stride=1, padding=4, dilation=4),\n",
        "            nn.LeakyReLU(0.1),\n",
        "            nn.BatchNorm2d(256),\n",
        "            nn.Conv2d(256, 256, 3, stride=1, padding=8, dilation=8),\n",
        "            nn.LeakyReLU(0.1),\n",
        "            nn.BatchNorm2d(256),\n",
        "            nn.Conv2d(256, 256, 3, stride=1, padding=16, dilation=16),\n",
        "            nn.LeakyReLU(0.1),\n",
        "            nn.BatchNorm2d(256),\n",
        "            \n",
        "            nn.Conv2d(256, 256, 3, stride=1, padding=1),\n",
        "            nn.LeakyReLU(0.1),\n",
        "            nn.BatchNorm2d(256),\n",
        "            nn.Conv2d(256, 256, 3, stride=1, padding=1),\n",
        "            nn.LeakyReLU(0.1),\n",
        "            nn.BatchNorm2d(256),\n",
        "            \n",
        "            nn.ConvTranspose2d(256, 128, 4, stride=2, padding=1),\n",
        "            nn.LeakyReLU(0.1),\n",
        "            nn.BatchNorm2d(128),\n",
        "            nn.Conv2d(128, 128, 3, stride=1, padding=1),\n",
        "            nn.LeakyReLU(0.1),\n",
        "            nn.BatchNorm2d(128),\n",
        "            \n",
        "            nn.ConvTranspose2d(128, 64, 4, stride=2, padding=1),\n",
        "            nn.LeakyReLU(0.1),\n",
        "            nn.BatchNorm2d(64),\n",
        "            nn.Conv2d(64, 32, 3, stride=1, padding=1),\n",
        "            nn.LeakyReLU(0.1),\n",
        "            nn.BatchNorm2d(32),\n",
        "            nn.Conv2d(32, im_channels, 3, stride=1, padding=1)\n",
        "            \n",
        "        )\n",
        "\n",
        "    def forward(self, X):\n",
        "        out = self.net(X)\n",
        "        return out\n",
        "    \n",
        "# g = Generator(2)\n",
        "# g.eval()\n",
        "# g(train[0][0].unsqueeze(0)).shape"
      ]
    },
    {
      "cell_type": "markdown",
      "metadata": {
        "id": "UoK3Y4wRypjK"
      },
      "source": [
        "## Local Discriminator"
      ]
    },
    {
      "cell_type": "code",
      "execution_count": null,
      "metadata": {
        "id": "hZDzSmCYypjL"
      },
      "outputs": [],
      "source": [
        "class LocalDiscriminator(nn.Module):\n",
        "    def __init__(self, im_channels, region_size=16):\n",
        "        super(LocalDiscriminator, self).__init__()\n",
        "        \n",
        "        self.region_size = region_size\n",
        "        \n",
        "        self.net = nn.Sequential(\n",
        "            nn.Conv2d(im_channels + 1, 64, 5, stride=2, padding=2),\n",
        "            nn.LeakyReLU(0.1),\n",
        "            nn.BatchNorm2d(64),\n",
        "            nn.Conv2d(64, 128, 5, stride=2, padding=2),\n",
        "            nn.LeakyReLU(0.1),\n",
        "            nn.BatchNorm2d(128),\n",
        "            nn.Conv2d(128, 256, 5, stride=2, padding=2),\n",
        "            nn.LeakyReLU(0.1),\n",
        "            nn.BatchNorm2d(256),\n",
        "            nn.Conv2d(256, 512, 5, stride=2, padding=2),\n",
        "            nn.LeakyReLU(0.1),\n",
        "            nn.BatchNorm2d(512),\n",
        "            nn.Conv2d(512, 512, 5, stride=2, padding=2),\n",
        "            nn.LeakyReLU(0.1),\n",
        "            nn.BatchNorm2d(512),\n",
        "            Flatten(),\n",
        "            nn.Linear(512, 1024),\n",
        "            nn.LeakyReLU(0.1),\n",
        "            nn.BatchNorm1d(1024)\n",
        "        )\n",
        "        \n",
        "    def forward(self, X, mask_bounds):\n",
        "        \n",
        "        local_regions = self._get_local_regions(X, mask_bounds)\n",
        "        out = self.net(local_regions)\n",
        "        \n",
        "        return out\n",
        "    \n",
        "    def _get_local_regions(self, X, mask_bounds):\n",
        "\n",
        "        N, ch, im_h, im_w = X.shape\n",
        "        local_regions = torch.zeros((N, ch, self.region_size, self.region_size)).cuda()\n",
        "\n",
        "        for i, bounds in enumerate(mask_bounds):\n",
        "            y1, y2, x1, x2 = bounds\n",
        "            \n",
        "            ym, xm = (y1 + y2) // 2, (x1 + x2) // 2\n",
        "            y1, x1 = ym - self.region_size // 2, xm - self.region_size // 2\n",
        "            y2, x2 = y1 + self.region_size, x1 + self.region_size\n",
        "            \n",
        "            if y1 < 0:\n",
        "                y1, y2 = 0, self.region_size\n",
        "            elif y2 > im_h:\n",
        "                y1, y2 = im_h - self.region_size, im_h\n",
        "                \n",
        "            if x1 < 0:\n",
        "                x1, x2 = 0, self.region_size\n",
        "            elif x2 > im_w:\n",
        "                x1, x2 = im_w - self.region_size, im_w\n",
        "            \n",
        "            local_regions[i, :, :, :] = X[i, :, y1 : y2, x1 : x2]\n",
        "        \n",
        "        return local_regions"
      ]
    },
    {
      "cell_type": "code",
      "execution_count": null,
      "metadata": {
        "id": "BzzxiQWEypjR"
      },
      "outputs": [],
      "source": [
        "# model = LocalDiscriminator(im_channels=3, region_size=14)#.cuda()\n",
        "# model.eval()\n",
        "# model.net(train[0][0][:, :14, :14].unsqueeze(0)).shape"
      ]
    },
    {
      "cell_type": "code",
      "execution_count": null,
      "metadata": {
        "id": "aLSpkK2qypjO"
      },
      "outputs": [],
      "source": [
        "# masks, bounds = create_hole_masks(1, 10, 10, 3, 2, same_size=True)\n",
        "# # print(masks.shape)\n",
        "# imshow(model._get_local_regions(train[1000][0].unsqueeze(0), bounds))"
      ]
    },
    {
      "cell_type": "markdown",
      "metadata": {
        "id": "Yz6KaMQ5ypjT"
      },
      "source": [
        "## Global Discriminator"
      ]
    },
    {
      "cell_type": "code",
      "execution_count": null,
      "metadata": {
        "id": "M4F-8riWypjT"
      },
      "outputs": [],
      "source": [
        "class GlobalDiscriminator(nn.Module):\n",
        "    def __init__(self, im_channels):\n",
        "        super(GlobalDiscriminator, self).__init__()\n",
        "        \n",
        "        self.net = nn.Sequential(\n",
        "            nn.Conv2d(im_channels + 1, 64, 5, stride=2, padding=2),\n",
        "            nn.LeakyReLU(0.1),\n",
        "            nn.BatchNorm2d(64),\n",
        "            nn.Conv2d(64, 128, 5, stride=2, padding=2),\n",
        "            nn.LeakyReLU(0.1),\n",
        "            nn.BatchNorm2d(128),\n",
        "            nn.Conv2d(128, 256, 5, stride=2, padding=2),\n",
        "            nn.LeakyReLU(0.1),\n",
        "            nn.BatchNorm2d(256),\n",
        "            nn.Conv2d(256, 512, 5, stride=2, padding=2),\n",
        "            nn.LeakyReLU(0.1),\n",
        "            nn.BatchNorm2d(512),\n",
        "            nn.Conv2d(512, 512, 5, stride=2, padding=2),\n",
        "            nn.LeakyReLU(0.1),\n",
        "            nn.BatchNorm2d(512),\n",
        "#             nn.Conv2d(512, 512, 5, stride=2, padding=2),\n",
        "#             nn.LeakyReLU(0.1),\n",
        "#             nn.BatchNorm2d(512),\n",
        "            Flatten(),\n",
        "            nn.Linear(512, 1024),\n",
        "            nn.LeakyReLU(0.1),\n",
        "            nn.BatchNorm1d(1024)\n",
        "        )\n",
        "        \n",
        "    def forward(self, X):\n",
        "        out = self.net(X)\n",
        "        return out\n",
        "        \n",
        "        "
      ]
    },
    {
      "cell_type": "code",
      "execution_count": null,
      "metadata": {
        "id": "hwv3ypCGypjV"
      },
      "outputs": [],
      "source": [
        "# model = GlobalDiscriminator(im_channels=3)#.cuda()\n",
        "# model(train[0][0].unsqueeze(0)).shape"
      ]
    },
    {
      "cell_type": "markdown",
      "metadata": {
        "id": "V7ocAMgMypjX"
      },
      "source": [
        "## Complete Discriminator"
      ]
    },
    {
      "cell_type": "code",
      "execution_count": null,
      "metadata": {
        "id": "Ahl4-fqyypjZ"
      },
      "outputs": [],
      "source": [
        "class Discriminator(nn.Module):\n",
        "    def __init__(self, local_d, global_d):\n",
        "        super(Discriminator, self).__init__()\n",
        "        self.local_discriminator = local_d\n",
        "        self.global_discriminator = global_d\n",
        "        self.fc = nn.Linear(2048, 1)\n",
        "        \n",
        "    def forward(self, X, mask_bounds):\n",
        "        local_ = self.local_discriminator(X, mask_bounds)\n",
        "        global_ = self.global_discriminator(X)\n",
        "        concated = torch.cat((local_, global_), dim=1)\n",
        "        out = self.fc(concated)\n",
        "        \n",
        "        return out\n"
      ]
    },
    {
      "cell_type": "markdown",
      "metadata": {
        "id": "tB2UE8YWypjc"
      },
      "source": [
        "# Train GAN"
      ]
    },
    {
      "cell_type": "code",
      "execution_count": null,
      "metadata": {
        "id": "tMjJGgNxypjc"
      },
      "outputs": [],
      "source": [
        "import time\n",
        "\n",
        "def cycle(iterable):\n",
        "    while True:\n",
        "        for x in iterable:\n",
        "            yield x\n",
        "\n",
        "def train_gan(g, d, train, val, g_o, d_o, params, masks_fn):\n",
        "\n",
        "    train_loader = data.DataLoader(train, batch_size=params['batch_size'], num_workers=0, pin_memory=True)\n",
        "    val_loader = data.DataLoader(val, params['val_batch_size'], shuffle=True, pin_memory=True)\n",
        "    val_loader = iter(cycle(val_loader))\n",
        "    \n",
        "    optimizer_g = g_o\n",
        "    optimizer_d = d_o\n",
        "    \n",
        "    T_c, T_d = params['T_c'], params['T_d']\n",
        "    w = params['w']\n",
        "    for epoch in range(params['epochs']):\n",
        "        ep_loss_g = 0.\n",
        "        ep_loss_d = 0.\n",
        "        fake_err = 0.\n",
        "        real_err = 0.\n",
        "        \n",
        "        if epoch < T_c and epoch == 0:\n",
        "                print(f'\\n>>>> Training generator for {T_c} epochs.')\n",
        "\n",
        "        if epoch < T_c + T_d and epoch == T_c:\n",
        "                print(f'\\n>>>> Training discriminator for {T_d} epochs.')\n",
        "                \n",
        "        if epoch == T_c + T_d:\n",
        "                print(f'\\n>>>> Training both generator and discriminator jointly.')\n",
        "        \n",
        "        start_time = time.time()\n",
        "        \n",
        "        g.train()\n",
        "        d.train()\n",
        "        for batch, _ in train_loader:\n",
        "            \n",
        "            N = batch.shape[0]\n",
        "            batch = batch.cuda()\n",
        "            \n",
        "            masks_g, bounds_g = masks_fn(N)\n",
        "            batch_masked = batch.clone() * (1 - masks_g)\n",
        "            batch_with_masks = torch.cat((batch_masked, masks_g[:, :1]), dim=1)\n",
        "            \n",
        "            fake = g(batch_with_masks)\n",
        "            \n",
        "            loss_mse = (((batch - fake) * masks_g)**2).sum() / masks_g.sum()\n",
        "            \n",
        "            if epoch < T_c:\n",
        "                loss_g = loss_mse\n",
        "                loss_g.backward()\n",
        "                optimizer_g.step()\n",
        "                optimizer_g.zero_grad()\n",
        "                ep_loss_g += loss_g.detach().cpu()\n",
        "                continue\n",
        "            else:\n",
        "                inpainted = batch.clone()\n",
        "                masks_byte = masks_g.byte()\n",
        "                inpainted[masks_byte] = fake.detach()[masks_byte].view(-1)\n",
        "                inpainted = torch.cat((inpainted, masks_g[:, :1]), dim=1)\n",
        "                d_fake = d(inpainted.detach(), bounds_g)\n",
        "                \n",
        "                masks_d, bounds_d = masks_fn(N)\n",
        "                real = torch.cat((batch.clone(), masks_d[:, :1]), dim=1)\n",
        "                d_real = d(real, bounds_d)\n",
        "                \n",
        "                loss_d_fake = (d_fake**2).mean()\n",
        "                loss_d_real = ((d_real - 1)**2).mean()\n",
        "                loss_d = (loss_d_fake + loss_d_real) / 2\n",
        "                loss_d.backward()\n",
        "                optimizer_d.step()\n",
        "                optimizer_d.zero_grad()\n",
        "\n",
        "                if epoch >= T_c + T_d:\n",
        "                    inpainted = batch.clone()\n",
        "                    inpainted[masks_byte] = fake[masks_byte].view(-1)\n",
        "                    inpainted = torch.cat((inpainted, masks_g[:, :1]), dim=1)\n",
        "                    d_fake = d(inpainted, bounds_g)\n",
        "                    loss_g = loss_mse + w * ((d_fake - 1)**2).mean()\n",
        "\n",
        "                    loss_g.backward()\n",
        "                    optimizer_g.step()\n",
        "                    optimizer_g.zero_grad()\n",
        "\n",
        "                    ep_loss_g += loss_g.detach().cpu()\n",
        "                    \n",
        "                ep_loss_d += loss_d.detach().cpu()\n",
        "                fake_err += loss_d_fake.detach().cpu()\n",
        "                real_err += loss_d_real.detach().cpu()\n",
        "#             break\n",
        "        \n",
        "        if not T_c <= epoch < T_c + T_d:\n",
        "            g.eval()\n",
        "            val_batch = next(val_loader)[0].cuda()\n",
        "            N, ch, _, _ = val_batch.shape\n",
        "            \n",
        "            masks, _ = masks_fn(N)\n",
        "            val_batch_masked = val_batch * (1 - masks)\n",
        "            val_batch_masked = torch.cat((val_batch_masked, masks[:, :1]), dim=1)\n",
        "            val_pred = g(val_batch_masked).detach()\n",
        "            val_loss = (((val_batch - val_pred) * masks)**2).sum() / masks.sum()\n",
        "            inpainted = val_batch.clone()\n",
        "            masks_byte = masks.byte()\n",
        "            inpainted[masks_byte] = val_pred[masks_byte]\n",
        "            imgs = [\n",
        "                val_batch[0].cpu(), \n",
        "                masks[0].cpu(), \n",
        "                val_batch_masked[:, :-1][0].cpu(), \n",
        "                val_pred[0].cpu().clamp(0, 1), \n",
        "                inpainted[0].cpu()\n",
        "            ]\n",
        "            imshow(torch.cat(imgs, dim=2))\n",
        "            plt.axis('off')\n",
        "            plt.show()\n",
        "\n",
        "        print('epoch: %d, g_loss: %0.4f, val_loss: %0.4f, d_loss: %0.4f, fake_err: %0.4f, real_err: %0.4f, time: %0.2f' %\\\n",
        "              (epoch, ep_loss_g, val_loss, ep_loss_d, fake_err, real_err, time.time() - start_time))"
      ]
    },
    {
      "cell_type": "code",
      "execution_count": null,
      "metadata": {
        "id": "452w0zSCypje"
      },
      "outputs": [],
      "source": [
        "global_d = GlobalDiscriminator(im_channels=3).cuda()\n",
        "local_d = LocalDiscriminator(im_channels=3, region_size=16).cuda()\n",
        "discriminator = Discriminator(local_d=local_d, global_d=global_d).cuda()\n",
        "\n",
        "generator = Generator(im_channels=3).cuda()\n"
      ]
    },
    {
      "cell_type": "code",
      "execution_count": null,
      "metadata": {
        "colab": {
          "base_uri": "https://localhost:8080/",
          "height": 1863
        },
        "id": "Fgm0AfHIypjg",
        "outputId": "23ae9735-6be8-4110-b746-25af0f13b25a"
      },
      "outputs": [
        {
          "name": "stdout",
          "output_type": "stream",
          "text": [
            "\n",
            ">>>> Training both generator and discriminator jointly.\n"
          ]
        },
        {
          "name": "stderr",
          "output_type": "stream",
          "text": [
            "Clipping input data to the valid range for imshow with RGB data ([0..1] for floats or [0..255] for integers).\n"
          ]
        },
        {
          "data": {
            "image/png": "[encoded data removed]",
            "text/plain": [
              "<Figure size 432x288 with 1 Axes>"
            ]
          },
          "metadata": {
            "tags": []
          },
          "output_type": "display_data"
        },
        {
          "name": "stdout",
          "output_type": "stream",
          "text": [
            "epoch: 0, g_loss: 0.9108, val_loss: 0.0162, d_loss: 15.0912, fake_err: 8.4875, real_err: 21.6948, time: 484.22\n"
          ]
        },
        {
          "data": {
            "image/png": "[encoded data removed]",
            "text/plain": [
              "<Figure size 432x288 with 1 Axes>"
            ]
          },
          "metadata": {
            "tags": []
          },
          "output_type": "display_data"
        },
        {
          "name": "stdout",
          "output_type": "stream",
          "text": [
            "epoch: 1, g_loss: 0.9211, val_loss: 0.0163, d_loss: 14.8737, fake_err: 9.2564, real_err: 20.4910, time: 488.08\n"
          ]
        },
        {
          "data": {
            "image/png": "[encoded data removed]",
            "text/plain": [
              "<Figure size 432x288 with 1 Axes>"
            ]
          },
          "metadata": {
            "tags": []
          },
          "output_type": "display_data"
        },
        {
          "name": "stdout",
          "output_type": "stream",
          "text": [
            "epoch: 2, g_loss: 0.9089, val_loss: 0.0169, d_loss: 14.7074, fake_err: 9.9802, real_err: 19.4347, time: 487.90\n"
          ]
        },
        {
          "data": {
            "image/png": "[encoded data removed]",
            "text/plain": [
              "<Figure size 432x288 with 1 Axes>"
            ]
          },
          "metadata": {
            "tags": []
          },
          "output_type": "display_data"
        },
        {
          "name": "stdout",
          "output_type": "stream",
          "text": [
            "epoch: 3, g_loss: 0.8962, val_loss: 0.0154, d_loss: 14.5804, fake_err: 10.6465, real_err: 18.5144, time: 488.81\n"
          ]
        },
        {
          "data": {
            "image/png": "[encoded data removed]",
            "text/plain": [
              "<Figure size 432x288 with 1 Axes>"
            ]
          },
          "metadata": {
            "tags": []
          },
          "output_type": "display_data"
        },
        {
          "name": "stdout",
          "output_type": "stream",
          "text": [
            "epoch: 4, g_loss: 0.9022, val_loss: 0.0181, d_loss: 14.4901, fake_err: 11.2533, real_err: 17.7269, time: 488.71\n"
          ]
        },
        {
          "name": "stderr",
          "output_type": "stream",
          "text": [
            "Clipping input data to the valid range for imshow with RGB data ([0..1] for floats or [0..255] for integers).\n"
          ]
        },
        {
          "data": {
            "image/png": "[encoded data removed]",
            "text/plain": [
              "<Figure size 432x288 with 1 Axes>"
            ]
          },
          "metadata": {
            "tags": []
          },
          "output_type": "display_data"
        },
        {
          "name": "stdout",
          "output_type": "stream",
          "text": [
            "epoch: 5, g_loss: 0.8846, val_loss: 0.0164, d_loss: 14.4265, fake_err: 11.7915, real_err: 17.0615, time: 487.33\n"
          ]
        },
        {
          "data": {
            "image/png": "[encoded data removed]",
            "text/plain": [
              "<Figure size 432x288 with 1 Axes>"
            ]
          },
          "metadata": {
            "tags": []
          },
          "output_type": "display_data"
        },
        {
          "name": "stdout",
          "output_type": "stream",
          "text": [
            "epoch: 6, g_loss: 0.8901, val_loss: 0.0166, d_loss: 14.3775, fake_err: 12.2545, real_err: 16.5004, time: 488.38\n"
          ]
        },
        {
          "data": {
            "image/png": "[encoded data removed]",
            "text/plain": [
              "<Figure size 432x288 with 1 Axes>"
            ]
          },
          "metadata": {
            "tags": []
          },
          "output_type": "display_data"
        },
        {
          "name": "stdout",
          "output_type": "stream",
          "text": [
            "epoch: 7, g_loss: 0.8757, val_loss: 0.0154, d_loss: 14.3464, fake_err: 12.6550, real_err: 16.0377, time: 488.37\n"
          ]
        },
        {
          "data": {
            "image/png": "[encoded data removed]",
            "text/plain": [
              "<Figure size 432x288 with 1 Axes>"
            ]
          },
          "metadata": {
            "tags": []
          },
          "output_type": "display_data"
        },
        {
          "name": "stdout",
          "output_type": "stream",
          "text": [
            "epoch: 8, g_loss: 0.8745, val_loss: 0.0149, d_loss: 14.3262, fake_err: 12.9923, real_err: 15.6601, time: 488.26\n"
          ]
        },
        {
          "data": {
            "image/png": "[encoded data removed]",
            "text/plain": [
              "<Figure size 432x288 with 1 Axes>"
            ]
          },
          "metadata": {
            "tags": []
          },
          "output_type": "display_data"
        },
        {
          "name": "stdout",
          "output_type": "stream",
          "text": [
            "epoch: 9, g_loss: 0.8693, val_loss: 0.0156, d_loss: 14.3105, fake_err: 13.2682, real_err: 15.3529, time: 487.84\n"
          ]
        },
        {
          "data": {
            "image/png": "[encoded data removed]",
            "text/plain": [
              "<Figure size 432x288 with 1 Axes>"
            ]
          },
          "metadata": {
            "tags": []
          },
          "output_type": "display_data"
        },
        {
          "name": "stdout",
          "output_type": "stream",
          "text": [
            "epoch: 10, g_loss: 0.8693, val_loss: 0.0161, d_loss: 14.3005, fake_err: 13.4931, real_err: 15.1079, time: 488.02\n"
          ]
        },
        {
          "data": {
            "image/png": "[encoded data removed]",
            "text/plain": [
              "<Figure size 432x288 with 1 Axes>"
            ]
          },
          "metadata": {
            "tags": []
          },
          "output_type": "display_data"
        },
        {
          "name": "stdout",
          "output_type": "stream",
          "text": [
            "epoch: 11, g_loss: 0.8598, val_loss: 0.0154, d_loss: 14.2913, fake_err: 13.6723, real_err: 14.9104, time: 487.60\n"
          ]
        },
        {
          "data": {
            "image/png": "[encoded data removed]",
            "text/plain": [
              "<Figure size 432x288 with 1 Axes>"
            ]
          },
          "metadata": {
            "tags": []
          },
          "output_type": "display_data"
        },
        {
          "name": "stdout",
          "output_type": "stream",
          "text": [
            "epoch: 12, g_loss: 0.8565, val_loss: 0.0155, d_loss: 14.2872, fake_err: 13.8176, real_err: 14.7568, time: 487.75\n"
          ]
        },
        {
          "data": {
            "image/png": "[encoded data removed]",
            "text/plain": [
              "<Figure size 432x288 with 1 Axes>"
            ]
          },
          "metadata": {
            "tags": []
          },
          "output_type": "display_data"
        },
        {
          "name": "stdout",
          "output_type": "stream",
          "text": [
            "epoch: 13, g_loss: 0.8502, val_loss: 0.0150, d_loss: 14.2839, fake_err: 13.9306, real_err: 14.6372, time: 487.89\n"
          ]
        },
        {
          "data": {
            "image/png": "[encoded data removed]",
            "text/plain": [
              "<Figure size 432x288 with 1 Axes>"
            ]
          },
          "metadata": {
            "tags": []
          },
          "output_type": "display_data"
        },
        {
          "name": "stdout",
          "output_type": "stream",
          "text": [
            "epoch: 14, g_loss: 0.8545, val_loss: 0.0146, d_loss: 14.2815, fake_err: 14.0188, real_err: 14.5442, time: 487.37\n"
          ]
        }
      ],
      "source": [
        "train_params = {}\n",
        "train_params['w'] = 0.0005\n",
        "train_params['learning_rate_g'] = 0.0001\n",
        "train_params['learning_rate_d'] = 0.00001\n",
        "train_params['batch_size'] = 800\n",
        "train_params['val_batch_size'] = 1024\n",
        "train_params['T_c'] = 0\n",
        "train_params['T_d'] = 0\n",
        "train_params['epochs'] = 20 + train_params['T_c'] + train_params['T_d']\n",
        "\n",
        "def gen_masks(N, ch=3):\n",
        "    masks, bounds = create_hole_masks(N, 32, 32, (5, 12), (5, 12), same_size=False)\n",
        "    return masks.repeat_interleave(ch, dim=1).cuda(), bounds\n",
        "\n",
        "# optimizer_g = optim.Adam(generator.parameters(), lr=train_params['learning_rate_g'])\n",
        "# optimizer_d = optim.Adam(discriminator.parameters(), lr=train_params['learning_rate_d'])\n",
        "\n",
        "torch.cuda.empty_cache()\n",
        "train_gan(generator, discriminator, train, val, optimizer_g, optimizer_d, train_params, gen_masks)"
      ]
    },
    {
      "cell_type": "markdown",
      "metadata": {
        "id": "1jL6c65E7XxQ"
      },
      "source": [
        "# Evaluation"
      ]
    },
    {
      "cell_type": "code",
      "execution_count": null,
      "metadata": {
        "id": "4qcwZFI80Sdn"
      },
      "outputs": [],
      "source": [
        "loss = 0\n",
        "pixels = 0"
      ]
    },
    {
      "cell_type": "code",
      "execution_count": null,
      "metadata": {
        "colab": {
          "base_uri": "https://localhost:8080/",
          "height": 34
        },
        "id": "yqEtwnMZypji",
        "outputId": "546d587d-274b-4239-b359-02cf4c9cb7d2"
      },
      "outputs": [
        {
          "name": "stdout",
          "output_type": "stream",
          "text": [
            "tensor(0.0155)\n"
          ]
        }
      ],
      "source": [
        "model = generator\n",
        "model.eval()\n",
        "N = 512\n",
        "test_loader = iter(data.DataLoader(test, N, shuffle=True, pin_memory=False))\n",
        "\n",
        "for batch, _ in test_loader:\n",
        "    masks, _ = gen_masks(batch.shape[0])\n",
        "    batch_masked = batch.clone().cuda() * (1 - masks)\n",
        "    batch_masked = torch.cat((batch_masked, masks[:, :1]), dim=1)\n",
        "    pred = model(batch_masked).clamp(0, 1).detach()\n",
        "\n",
        "    loss += (((batch.cuda() - pred) * masks)**2).sum().detach().cpu()\n",
        "    pixels += masks.sum().detach().cpu()\n",
        "    \n",
        "#     inpainted = batch.clone()\n",
        "#     masks_byte = masks.byte()\n",
        "#     inpainted[masks_byte] = pred[masks_byte].view(-1)\n",
        "#     border = torch.zeros((3, 32, 2)) + 0.2196\n",
        "\n",
        "print(loss / pixels)\n",
        "\n",
        "# for i in range(batch.shape[0]):\n",
        "#     imgs = [\n",
        "#         batch[i].cpu(),\n",
        "#         border,\n",
        "#         batch_masked[:, :-1][i].cpu(), \n",
        "# #         pred[i].cpu(), \n",
        "#         border,\n",
        "#         inpainted[i].cpu()\n",
        "#     ]\n",
        "#     tmp = torch.cat(imgs, dim=2)\n",
        "#     imshow(tmp)\n",
        "#     plt.axis('off')\n",
        "#     plt.show()"
      ]
    },
    {
      "cell_type": "markdown",
      "metadata": {
        "id": "sCZOh1aG7abH"
      },
      "source": [
        "# Model saving"
      ]
    },
    {
      "cell_type": "code",
      "execution_count": null,
      "metadata": {
        "colab": {
          "base_uri": "https://localhost:8080/",
          "height": 34
        },
        "id": "NX2oriLbCfyb",
        "outputId": "a1fc20f6-ed66-4d01-ed56-3a9040443ae6"
      },
      "outputs": [
        {
          "name": "stdout",
          "output_type": "stream",
          "text": [
            "Drive already mounted at /content/gdrive; to attempt to forcibly remount, call drive.mount(\"/content/gdrive\", force_remount=True).\n"
          ]
        }
      ],
      "source": [
        "from google.colab import drive\n",
        "drive.mount('/content/gdrive')\n",
        "\n",
        "model_save_name = 'generator.pt'\n",
        "path = F\"/content/gdrive/My Drive/{model_save_name}\" \n",
        "torch.save(generator.state_dict(), path)\n",
        "\n",
        "model_save_name = 'discriminator.pt'\n",
        "path = F\"/content/gdrive/My Drive/{model_save_name}\" \n",
        "torch.save(discriminator.state_dict(), path)"
      ]
    },
    {
      "cell_type": "code",
      "execution_count": null,
      "metadata": {
        "id": "aVqWtKJtH762"
      },
      "outputs": [],
      "source": []
    }
  ],
  "metadata": {
    "accelerator": "GPU",
    "colab": {
      "collapsed_sections": [
        "aw3lE2A8ypiw"
      ],
      "name": "inpainting.ipynb",
      "provenance": [],
      "toc_visible": true
    },
    "kernelspec": {
      "display_name": "Python 3",
      "name": "python3"
    },
    "language_info": {
      "codemirror_mode": {
        "name": "ipython",
        "version": 3
      },
      "file_extension": ".py",
      "mimetype": "text/x-python",
      "name": "python",
      "nbconvert_exporter": "python",
      "pygments_lexer": "ipython3",
      "version": "3.6.5"
    }
  },
  "nbformat": 4,
  "nbformat_minor": 0
}
